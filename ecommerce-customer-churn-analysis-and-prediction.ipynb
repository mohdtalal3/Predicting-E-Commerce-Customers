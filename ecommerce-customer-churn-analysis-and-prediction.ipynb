{
 "cells": [
  {
   "cell_type": "markdown",
   "id": "64878a29",
   "metadata": {
    "_cell_guid": "b1076dfc-b9ad-4769-8c92-a6c4dae69d19",
    "_uuid": "8f2839f25d086af736a60e9eeb907d3b93b6e0e5",
    "papermill": {
     "duration": 0.012198,
     "end_time": "2023-02-02T18:05:34.349666",
     "exception": false,
     "start_time": "2023-02-02T18:05:34.337468",
     "status": "completed"
    },
    "tags": []
   },
   "source": [
    "# Goal"
   ]
  },
  {
   "cell_type": "markdown",
   "id": "301366a4",
   "metadata": {
    "papermill": {
     "duration": 0.011325,
     "end_time": "2023-02-02T18:05:34.371986",
     "exception": false,
     "start_time": "2023-02-02T18:05:34.360661",
     "status": "completed"
    },
    "tags": []
   },
   "source": [
    "****The main questions of interest for this project are:****\n",
    "\n",
    "****1. Build a predictive model that can accurately identify customers who are at risk of leaving the company (churn) based on the provided variables. This can help the company take proactive steps to retain these customers and reduce the rate of churn.****\n",
    "\n",
    "****2.  Perform a thorough exploratory analysis of the provided customer data to gain insights into the behavior and characteristics of the customers. This includes analyzing patterns and trends in variables. This analysis can help the company understand its customers better and inform future decision-making.****"
   ]
  },
  {
   "cell_type": "markdown",
   "id": "4d9da709",
   "metadata": {
    "papermill": {
     "duration": 0.010289,
     "end_time": "2023-02-02T18:05:34.393000",
     "exception": false,
     "start_time": "2023-02-02T18:05:34.382711",
     "status": "completed"
    },
    "tags": []
   },
   "source": [
    "****Solution Plan:****\n",
    "\n",
    "****Datasets Overview:****\n",
    "\n",
    "Review the provided customer data to familiarize yourself with the variables and their structure.\n",
    "\n",
    "Check the data quality, missing values, and potential errors.\n",
    "\n",
    "Determine if any data pre-processing is necessary.\n",
    "\n",
    "****Exploratory Analysis:****\n",
    "\n",
    "Analyze the distribution of the variables to identify any outliers or anomalies.\n",
    "\n",
    "Investigate the relationship between variables to identify any correlations or patterns.\n",
    "\n",
    "Visualize the data to gain insights into the behavior and characteristics of the customers.\n",
    "\n",
    "****Simple Data Cleaning & Feature Selection:****\n",
    "\n",
    "Clean the data by handling missing values, converting variables to appropriate data types, and addressing any data quality issues.\n",
    "\n",
    "Select the most important variables for building the predictive model.\n",
    "\n",
    "****Machine Learning:****\n",
    "\n",
    "Build a predictive model that can identify customers who are at risk of leaving the company."
   ]
  },
  {
   "cell_type": "markdown",
   "id": "4a5903a1",
   "metadata": {
    "papermill": {
     "duration": 0.010506,
     "end_time": "2023-02-02T18:05:34.416342",
     "exception": false,
     "start_time": "2023-02-02T18:05:34.405836",
     "status": "completed"
    },
    "tags": []
   },
   "source": [
    "# Datasets Overview"
   ]
  },
  {
   "cell_type": "code",
   "execution_count": 1,
   "id": "4d6f2528",
   "metadata": {
    "execution": {
     "iopub.execute_input": "2023-02-02T18:05:34.439858Z",
     "iopub.status.busy": "2023-02-02T18:05:34.439091Z",
     "iopub.status.idle": "2023-02-02T18:05:35.556210Z",
     "shell.execute_reply": "2023-02-02T18:05:35.554659Z"
    },
    "papermill": {
     "duration": 1.132506,
     "end_time": "2023-02-02T18:05:35.559389",
     "exception": false,
     "start_time": "2023-02-02T18:05:34.426883",
     "status": "completed"
    },
    "tags": []
   },
   "outputs": [],
   "source": [
    "import numpy as np \n",
    "import pandas as pd \n",
    "import matplotlib.pyplot as plt\n",
    "import seaborn as sns"
   ]
  },
  {
   "cell_type": "code",
   "execution_count": 13,
   "id": "9afbf2a7",
   "metadata": {
    "execution": {
     "iopub.execute_input": "2023-02-02T18:05:35.582431Z",
     "iopub.status.busy": "2023-02-02T18:05:35.582016Z",
     "iopub.status.idle": "2023-02-02T18:05:37.604815Z",
     "shell.execute_reply": "2023-02-02T18:05:37.603746Z"
    },
    "papermill": {
     "duration": 2.038046,
     "end_time": "2023-02-02T18:05:37.608178",
     "exception": false,
     "start_time": "2023-02-02T18:05:35.570132",
     "status": "completed"
    },
    "tags": []
   },
   "outputs": [
    {
     "data": {
      "text/html": [
       "<div>\n",
       "<style scoped>\n",
       "    .dataframe tbody tr th:only-of-type {\n",
       "        vertical-align: middle;\n",
       "    }\n",
       "\n",
       "    .dataframe tbody tr th {\n",
       "        vertical-align: top;\n",
       "    }\n",
       "\n",
       "    .dataframe thead th {\n",
       "        text-align: right;\n",
       "    }\n",
       "</style>\n",
       "<table border=\"1\" class=\"dataframe\">\n",
       "  <thead>\n",
       "    <tr style=\"text-align: right;\">\n",
       "      <th></th>\n",
       "      <th>CustomerID</th>\n",
       "      <th>Churn</th>\n",
       "      <th>Tenure</th>\n",
       "      <th>PreferredLoginDevice</th>\n",
       "      <th>CityTier</th>\n",
       "      <th>WarehouseToHome</th>\n",
       "      <th>PreferredPaymentMode</th>\n",
       "      <th>Gender</th>\n",
       "      <th>HourSpendOnApp</th>\n",
       "      <th>NumberOfDeviceRegistered</th>\n",
       "      <th>PreferedOrderCat</th>\n",
       "      <th>SatisfactionScore</th>\n",
       "      <th>MaritalStatus</th>\n",
       "      <th>NumberOfAddress</th>\n",
       "      <th>Complain</th>\n",
       "      <th>OrderAmountHikeFromlastYear</th>\n",
       "      <th>CouponUsed</th>\n",
       "      <th>OrderCount</th>\n",
       "      <th>DaySinceLastOrder</th>\n",
       "      <th>CashbackAmount</th>\n",
       "    </tr>\n",
       "  </thead>\n",
       "  <tbody>\n",
       "    <tr>\n",
       "      <th>0</th>\n",
       "      <td>50001</td>\n",
       "      <td>1</td>\n",
       "      <td>4.0</td>\n",
       "      <td>Mobile Phone</td>\n",
       "      <td>3</td>\n",
       "      <td>6.0</td>\n",
       "      <td>Debit Card</td>\n",
       "      <td>Female</td>\n",
       "      <td>3.0</td>\n",
       "      <td>3</td>\n",
       "      <td>Laptop &amp; Accessory</td>\n",
       "      <td>2</td>\n",
       "      <td>Single</td>\n",
       "      <td>9</td>\n",
       "      <td>1</td>\n",
       "      <td>11.0</td>\n",
       "      <td>1.0</td>\n",
       "      <td>1.0</td>\n",
       "      <td>5.0</td>\n",
       "      <td>159.93</td>\n",
       "    </tr>\n",
       "    <tr>\n",
       "      <th>1</th>\n",
       "      <td>50002</td>\n",
       "      <td>1</td>\n",
       "      <td>NaN</td>\n",
       "      <td>Phone</td>\n",
       "      <td>1</td>\n",
       "      <td>8.0</td>\n",
       "      <td>UPI</td>\n",
       "      <td>Male</td>\n",
       "      <td>3.0</td>\n",
       "      <td>4</td>\n",
       "      <td>Mobile</td>\n",
       "      <td>3</td>\n",
       "      <td>Single</td>\n",
       "      <td>7</td>\n",
       "      <td>1</td>\n",
       "      <td>15.0</td>\n",
       "      <td>0.0</td>\n",
       "      <td>1.0</td>\n",
       "      <td>0.0</td>\n",
       "      <td>120.90</td>\n",
       "    </tr>\n",
       "    <tr>\n",
       "      <th>2</th>\n",
       "      <td>50003</td>\n",
       "      <td>1</td>\n",
       "      <td>NaN</td>\n",
       "      <td>Phone</td>\n",
       "      <td>1</td>\n",
       "      <td>30.0</td>\n",
       "      <td>Debit Card</td>\n",
       "      <td>Male</td>\n",
       "      <td>2.0</td>\n",
       "      <td>4</td>\n",
       "      <td>Mobile</td>\n",
       "      <td>3</td>\n",
       "      <td>Single</td>\n",
       "      <td>6</td>\n",
       "      <td>1</td>\n",
       "      <td>14.0</td>\n",
       "      <td>0.0</td>\n",
       "      <td>1.0</td>\n",
       "      <td>3.0</td>\n",
       "      <td>120.28</td>\n",
       "    </tr>\n",
       "    <tr>\n",
       "      <th>3</th>\n",
       "      <td>50004</td>\n",
       "      <td>1</td>\n",
       "      <td>0.0</td>\n",
       "      <td>Phone</td>\n",
       "      <td>3</td>\n",
       "      <td>15.0</td>\n",
       "      <td>Debit Card</td>\n",
       "      <td>Male</td>\n",
       "      <td>2.0</td>\n",
       "      <td>4</td>\n",
       "      <td>Laptop &amp; Accessory</td>\n",
       "      <td>5</td>\n",
       "      <td>Single</td>\n",
       "      <td>8</td>\n",
       "      <td>0</td>\n",
       "      <td>23.0</td>\n",
       "      <td>0.0</td>\n",
       "      <td>1.0</td>\n",
       "      <td>3.0</td>\n",
       "      <td>134.07</td>\n",
       "    </tr>\n",
       "    <tr>\n",
       "      <th>4</th>\n",
       "      <td>50005</td>\n",
       "      <td>1</td>\n",
       "      <td>0.0</td>\n",
       "      <td>Phone</td>\n",
       "      <td>1</td>\n",
       "      <td>12.0</td>\n",
       "      <td>CC</td>\n",
       "      <td>Male</td>\n",
       "      <td>NaN</td>\n",
       "      <td>3</td>\n",
       "      <td>Mobile</td>\n",
       "      <td>5</td>\n",
       "      <td>Single</td>\n",
       "      <td>3</td>\n",
       "      <td>0</td>\n",
       "      <td>11.0</td>\n",
       "      <td>1.0</td>\n",
       "      <td>1.0</td>\n",
       "      <td>3.0</td>\n",
       "      <td>129.60</td>\n",
       "    </tr>\n",
       "    <tr>\n",
       "      <th>5</th>\n",
       "      <td>50006</td>\n",
       "      <td>1</td>\n",
       "      <td>0.0</td>\n",
       "      <td>Computer</td>\n",
       "      <td>1</td>\n",
       "      <td>22.0</td>\n",
       "      <td>Debit Card</td>\n",
       "      <td>Female</td>\n",
       "      <td>3.0</td>\n",
       "      <td>5</td>\n",
       "      <td>Mobile Phone</td>\n",
       "      <td>5</td>\n",
       "      <td>Single</td>\n",
       "      <td>2</td>\n",
       "      <td>1</td>\n",
       "      <td>22.0</td>\n",
       "      <td>4.0</td>\n",
       "      <td>6.0</td>\n",
       "      <td>7.0</td>\n",
       "      <td>139.19</td>\n",
       "    </tr>\n",
       "    <tr>\n",
       "      <th>6</th>\n",
       "      <td>50007</td>\n",
       "      <td>1</td>\n",
       "      <td>NaN</td>\n",
       "      <td>Phone</td>\n",
       "      <td>3</td>\n",
       "      <td>11.0</td>\n",
       "      <td>Cash on Delivery</td>\n",
       "      <td>Male</td>\n",
       "      <td>2.0</td>\n",
       "      <td>3</td>\n",
       "      <td>Laptop &amp; Accessory</td>\n",
       "      <td>2</td>\n",
       "      <td>Divorced</td>\n",
       "      <td>4</td>\n",
       "      <td>0</td>\n",
       "      <td>14.0</td>\n",
       "      <td>0.0</td>\n",
       "      <td>1.0</td>\n",
       "      <td>0.0</td>\n",
       "      <td>120.86</td>\n",
       "    </tr>\n",
       "    <tr>\n",
       "      <th>7</th>\n",
       "      <td>50008</td>\n",
       "      <td>1</td>\n",
       "      <td>NaN</td>\n",
       "      <td>Phone</td>\n",
       "      <td>1</td>\n",
       "      <td>6.0</td>\n",
       "      <td>CC</td>\n",
       "      <td>Male</td>\n",
       "      <td>3.0</td>\n",
       "      <td>3</td>\n",
       "      <td>Mobile</td>\n",
       "      <td>2</td>\n",
       "      <td>Divorced</td>\n",
       "      <td>3</td>\n",
       "      <td>1</td>\n",
       "      <td>16.0</td>\n",
       "      <td>2.0</td>\n",
       "      <td>2.0</td>\n",
       "      <td>0.0</td>\n",
       "      <td>122.93</td>\n",
       "    </tr>\n",
       "  </tbody>\n",
       "</table>\n",
       "</div>"
      ],
      "text/plain": [
       "   CustomerID  Churn  Tenure PreferredLoginDevice  CityTier  WarehouseToHome  \\\n",
       "0       50001      1     4.0         Mobile Phone         3              6.0   \n",
       "1       50002      1     NaN                Phone         1              8.0   \n",
       "2       50003      1     NaN                Phone         1             30.0   \n",
       "3       50004      1     0.0                Phone         3             15.0   \n",
       "4       50005      1     0.0                Phone         1             12.0   \n",
       "5       50006      1     0.0             Computer         1             22.0   \n",
       "6       50007      1     NaN                Phone         3             11.0   \n",
       "7       50008      1     NaN                Phone         1              6.0   \n",
       "\n",
       "  PreferredPaymentMode  Gender  HourSpendOnApp  NumberOfDeviceRegistered  \\\n",
       "0           Debit Card  Female             3.0                         3   \n",
       "1                  UPI    Male             3.0                         4   \n",
       "2           Debit Card    Male             2.0                         4   \n",
       "3           Debit Card    Male             2.0                         4   \n",
       "4                   CC    Male             NaN                         3   \n",
       "5           Debit Card  Female             3.0                         5   \n",
       "6     Cash on Delivery    Male             2.0                         3   \n",
       "7                   CC    Male             3.0                         3   \n",
       "\n",
       "     PreferedOrderCat  SatisfactionScore MaritalStatus  NumberOfAddress  \\\n",
       "0  Laptop & Accessory                  2        Single                9   \n",
       "1              Mobile                  3        Single                7   \n",
       "2              Mobile                  3        Single                6   \n",
       "3  Laptop & Accessory                  5        Single                8   \n",
       "4              Mobile                  5        Single                3   \n",
       "5        Mobile Phone                  5        Single                2   \n",
       "6  Laptop & Accessory                  2      Divorced                4   \n",
       "7              Mobile                  2      Divorced                3   \n",
       "\n",
       "   Complain  OrderAmountHikeFromlastYear  CouponUsed  OrderCount  \\\n",
       "0         1                         11.0         1.0         1.0   \n",
       "1         1                         15.0         0.0         1.0   \n",
       "2         1                         14.0         0.0         1.0   \n",
       "3         0                         23.0         0.0         1.0   \n",
       "4         0                         11.0         1.0         1.0   \n",
       "5         1                         22.0         4.0         6.0   \n",
       "6         0                         14.0         0.0         1.0   \n",
       "7         1                         16.0         2.0         2.0   \n",
       "\n",
       "   DaySinceLastOrder  CashbackAmount  \n",
       "0                5.0          159.93  \n",
       "1                0.0          120.90  \n",
       "2                3.0          120.28  \n",
       "3                3.0          134.07  \n",
       "4                3.0          129.60  \n",
       "5                7.0          139.19  \n",
       "6                0.0          120.86  \n",
       "7                0.0          122.93  "
      ]
     },
     "execution_count": 13,
     "metadata": {},
     "output_type": "execute_result"
    }
   ],
   "source": [
    "df = pd.read_excel('output1.xlsx')\n",
    "df.head(8)"
   ]
  },
  {
   "cell_type": "code",
   "execution_count": 14,
   "id": "67e5faca",
   "metadata": {
    "execution": {
     "iopub.execute_input": "2023-02-02T18:05:37.632812Z",
     "iopub.status.busy": "2023-02-02T18:05:37.632229Z",
     "iopub.status.idle": "2023-02-02T18:05:37.717023Z",
     "shell.execute_reply": "2023-02-02T18:05:37.715490Z"
    },
    "papermill": {
     "duration": 0.100157,
     "end_time": "2023-02-02T18:05:37.719769",
     "exception": false,
     "start_time": "2023-02-02T18:05:37.619612",
     "status": "completed"
    },
    "tags": []
   },
   "outputs": [
    {
     "name": "stdout",
     "output_type": "stream",
     "text": [
      "<class 'pandas.core.frame.DataFrame'>\n",
      "RangeIndex: 5630 entries, 0 to 5629\n",
      "Data columns (total 20 columns):\n",
      " #   Column                       Non-Null Count  Dtype  \n",
      "---  ------                       --------------  -----  \n",
      " 0   CustomerID                   5630 non-null   int64  \n",
      " 1   Churn                        5630 non-null   int64  \n",
      " 2   Tenure                       5366 non-null   float64\n",
      " 3   PreferredLoginDevice         5630 non-null   object \n",
      " 4   CityTier                     5630 non-null   int64  \n",
      " 5   WarehouseToHome              5379 non-null   float64\n",
      " 6   PreferredPaymentMode         5630 non-null   object \n",
      " 7   Gender                       5630 non-null   object \n",
      " 8   HourSpendOnApp               5375 non-null   float64\n",
      " 9   NumberOfDeviceRegistered     5630 non-null   int64  \n",
      " 10  PreferedOrderCat             5630 non-null   object \n",
      " 11  SatisfactionScore            5630 non-null   int64  \n",
      " 12  MaritalStatus                5630 non-null   object \n",
      " 13  NumberOfAddress              5630 non-null   int64  \n",
      " 14  Complain                     5630 non-null   int64  \n",
      " 15  OrderAmountHikeFromlastYear  5365 non-null   float64\n",
      " 16  CouponUsed                   5374 non-null   float64\n",
      " 17  OrderCount                   5372 non-null   float64\n",
      " 18  DaySinceLastOrder            5323 non-null   float64\n",
      " 19  CashbackAmount               5630 non-null   float64\n",
      "dtypes: float64(8), int64(7), object(5)\n",
      "memory usage: 879.8+ KB\n"
     ]
    },
    {
     "data": {
      "text/html": [
       "<div>\n",
       "<style scoped>\n",
       "    .dataframe tbody tr th:only-of-type {\n",
       "        vertical-align: middle;\n",
       "    }\n",
       "\n",
       "    .dataframe tbody tr th {\n",
       "        vertical-align: top;\n",
       "    }\n",
       "\n",
       "    .dataframe thead th {\n",
       "        text-align: right;\n",
       "    }\n",
       "</style>\n",
       "<table border=\"1\" class=\"dataframe\">\n",
       "  <thead>\n",
       "    <tr style=\"text-align: right;\">\n",
       "      <th></th>\n",
       "      <th>CustomerID</th>\n",
       "      <th>Churn</th>\n",
       "      <th>Tenure</th>\n",
       "      <th>CityTier</th>\n",
       "      <th>WarehouseToHome</th>\n",
       "      <th>HourSpendOnApp</th>\n",
       "      <th>NumberOfDeviceRegistered</th>\n",
       "      <th>SatisfactionScore</th>\n",
       "      <th>NumberOfAddress</th>\n",
       "      <th>Complain</th>\n",
       "      <th>OrderAmountHikeFromlastYear</th>\n",
       "      <th>CouponUsed</th>\n",
       "      <th>OrderCount</th>\n",
       "      <th>DaySinceLastOrder</th>\n",
       "      <th>CashbackAmount</th>\n",
       "    </tr>\n",
       "  </thead>\n",
       "  <tbody>\n",
       "    <tr>\n",
       "      <th>count</th>\n",
       "      <td>5630.000000</td>\n",
       "      <td>5630.000000</td>\n",
       "      <td>5366.000000</td>\n",
       "      <td>5630.000000</td>\n",
       "      <td>5379.000000</td>\n",
       "      <td>5375.000000</td>\n",
       "      <td>5630.000000</td>\n",
       "      <td>5630.000000</td>\n",
       "      <td>5630.000000</td>\n",
       "      <td>5630.000000</td>\n",
       "      <td>5365.000000</td>\n",
       "      <td>5374.000000</td>\n",
       "      <td>5372.000000</td>\n",
       "      <td>5323.000000</td>\n",
       "      <td>5630.000000</td>\n",
       "    </tr>\n",
       "    <tr>\n",
       "      <th>mean</th>\n",
       "      <td>52815.500000</td>\n",
       "      <td>0.168384</td>\n",
       "      <td>10.189899</td>\n",
       "      <td>1.654707</td>\n",
       "      <td>15.639896</td>\n",
       "      <td>2.931535</td>\n",
       "      <td>3.688988</td>\n",
       "      <td>3.066785</td>\n",
       "      <td>4.214032</td>\n",
       "      <td>0.284902</td>\n",
       "      <td>15.707922</td>\n",
       "      <td>1.751023</td>\n",
       "      <td>3.008004</td>\n",
       "      <td>4.543491</td>\n",
       "      <td>177.223030</td>\n",
       "    </tr>\n",
       "    <tr>\n",
       "      <th>std</th>\n",
       "      <td>1625.385339</td>\n",
       "      <td>0.374240</td>\n",
       "      <td>8.557241</td>\n",
       "      <td>0.915389</td>\n",
       "      <td>8.531475</td>\n",
       "      <td>0.721926</td>\n",
       "      <td>1.023999</td>\n",
       "      <td>1.380194</td>\n",
       "      <td>2.583586</td>\n",
       "      <td>0.451408</td>\n",
       "      <td>3.675485</td>\n",
       "      <td>1.894621</td>\n",
       "      <td>2.939680</td>\n",
       "      <td>3.654433</td>\n",
       "      <td>49.207036</td>\n",
       "    </tr>\n",
       "    <tr>\n",
       "      <th>min</th>\n",
       "      <td>50001.000000</td>\n",
       "      <td>0.000000</td>\n",
       "      <td>0.000000</td>\n",
       "      <td>1.000000</td>\n",
       "      <td>5.000000</td>\n",
       "      <td>0.000000</td>\n",
       "      <td>1.000000</td>\n",
       "      <td>1.000000</td>\n",
       "      <td>1.000000</td>\n",
       "      <td>0.000000</td>\n",
       "      <td>11.000000</td>\n",
       "      <td>0.000000</td>\n",
       "      <td>1.000000</td>\n",
       "      <td>0.000000</td>\n",
       "      <td>0.000000</td>\n",
       "    </tr>\n",
       "    <tr>\n",
       "      <th>25%</th>\n",
       "      <td>51408.250000</td>\n",
       "      <td>0.000000</td>\n",
       "      <td>2.000000</td>\n",
       "      <td>1.000000</td>\n",
       "      <td>9.000000</td>\n",
       "      <td>2.000000</td>\n",
       "      <td>3.000000</td>\n",
       "      <td>2.000000</td>\n",
       "      <td>2.000000</td>\n",
       "      <td>0.000000</td>\n",
       "      <td>13.000000</td>\n",
       "      <td>1.000000</td>\n",
       "      <td>1.000000</td>\n",
       "      <td>2.000000</td>\n",
       "      <td>145.770000</td>\n",
       "    </tr>\n",
       "    <tr>\n",
       "      <th>50%</th>\n",
       "      <td>52815.500000</td>\n",
       "      <td>0.000000</td>\n",
       "      <td>9.000000</td>\n",
       "      <td>1.000000</td>\n",
       "      <td>14.000000</td>\n",
       "      <td>3.000000</td>\n",
       "      <td>4.000000</td>\n",
       "      <td>3.000000</td>\n",
       "      <td>3.000000</td>\n",
       "      <td>0.000000</td>\n",
       "      <td>15.000000</td>\n",
       "      <td>1.000000</td>\n",
       "      <td>2.000000</td>\n",
       "      <td>3.000000</td>\n",
       "      <td>163.280000</td>\n",
       "    </tr>\n",
       "    <tr>\n",
       "      <th>75%</th>\n",
       "      <td>54222.750000</td>\n",
       "      <td>0.000000</td>\n",
       "      <td>16.000000</td>\n",
       "      <td>3.000000</td>\n",
       "      <td>20.000000</td>\n",
       "      <td>3.000000</td>\n",
       "      <td>4.000000</td>\n",
       "      <td>4.000000</td>\n",
       "      <td>6.000000</td>\n",
       "      <td>1.000000</td>\n",
       "      <td>18.000000</td>\n",
       "      <td>2.000000</td>\n",
       "      <td>3.000000</td>\n",
       "      <td>7.000000</td>\n",
       "      <td>196.392500</td>\n",
       "    </tr>\n",
       "    <tr>\n",
       "      <th>max</th>\n",
       "      <td>55630.000000</td>\n",
       "      <td>1.000000</td>\n",
       "      <td>61.000000</td>\n",
       "      <td>3.000000</td>\n",
       "      <td>127.000000</td>\n",
       "      <td>5.000000</td>\n",
       "      <td>6.000000</td>\n",
       "      <td>5.000000</td>\n",
       "      <td>22.000000</td>\n",
       "      <td>1.000000</td>\n",
       "      <td>26.000000</td>\n",
       "      <td>16.000000</td>\n",
       "      <td>16.000000</td>\n",
       "      <td>46.000000</td>\n",
       "      <td>324.990000</td>\n",
       "    </tr>\n",
       "  </tbody>\n",
       "</table>\n",
       "</div>"
      ],
      "text/plain": [
       "         CustomerID        Churn       Tenure     CityTier  WarehouseToHome  \\\n",
       "count   5630.000000  5630.000000  5366.000000  5630.000000      5379.000000   \n",
       "mean   52815.500000     0.168384    10.189899     1.654707        15.639896   \n",
       "std     1625.385339     0.374240     8.557241     0.915389         8.531475   \n",
       "min    50001.000000     0.000000     0.000000     1.000000         5.000000   \n",
       "25%    51408.250000     0.000000     2.000000     1.000000         9.000000   \n",
       "50%    52815.500000     0.000000     9.000000     1.000000        14.000000   \n",
       "75%    54222.750000     0.000000    16.000000     3.000000        20.000000   \n",
       "max    55630.000000     1.000000    61.000000     3.000000       127.000000   \n",
       "\n",
       "       HourSpendOnApp  NumberOfDeviceRegistered  SatisfactionScore  \\\n",
       "count     5375.000000               5630.000000        5630.000000   \n",
       "mean         2.931535                  3.688988           3.066785   \n",
       "std          0.721926                  1.023999           1.380194   \n",
       "min          0.000000                  1.000000           1.000000   \n",
       "25%          2.000000                  3.000000           2.000000   \n",
       "50%          3.000000                  4.000000           3.000000   \n",
       "75%          3.000000                  4.000000           4.000000   \n",
       "max          5.000000                  6.000000           5.000000   \n",
       "\n",
       "       NumberOfAddress     Complain  OrderAmountHikeFromlastYear   CouponUsed  \\\n",
       "count      5630.000000  5630.000000                  5365.000000  5374.000000   \n",
       "mean          4.214032     0.284902                    15.707922     1.751023   \n",
       "std           2.583586     0.451408                     3.675485     1.894621   \n",
       "min           1.000000     0.000000                    11.000000     0.000000   \n",
       "25%           2.000000     0.000000                    13.000000     1.000000   \n",
       "50%           3.000000     0.000000                    15.000000     1.000000   \n",
       "75%           6.000000     1.000000                    18.000000     2.000000   \n",
       "max          22.000000     1.000000                    26.000000    16.000000   \n",
       "\n",
       "        OrderCount  DaySinceLastOrder  CashbackAmount  \n",
       "count  5372.000000        5323.000000     5630.000000  \n",
       "mean      3.008004           4.543491      177.223030  \n",
       "std       2.939680           3.654433       49.207036  \n",
       "min       1.000000           0.000000        0.000000  \n",
       "25%       1.000000           2.000000      145.770000  \n",
       "50%       2.000000           3.000000      163.280000  \n",
       "75%       3.000000           7.000000      196.392500  \n",
       "max      16.000000          46.000000      324.990000  "
      ]
     },
     "execution_count": 14,
     "metadata": {},
     "output_type": "execute_result"
    }
   ],
   "source": [
    "df.columns\n",
    "df.info()\n",
    "df.describe()"
   ]
  },
  {
   "cell_type": "markdown",
   "id": "c8b3ed89",
   "metadata": {
    "papermill": {
     "duration": 0.011432,
     "end_time": "2023-02-02T18:05:37.743005",
     "exception": false,
     "start_time": "2023-02-02T18:05:37.731573",
     "status": "completed"
    },
    "tags": []
   },
   "source": [
    "Let's take a look at unique values:"
   ]
  },
  {
   "cell_type": "code",
   "execution_count": 15,
   "id": "7b584b2d",
   "metadata": {
    "execution": {
     "iopub.execute_input": "2023-02-02T18:05:37.768100Z",
     "iopub.status.busy": "2023-02-02T18:05:37.767574Z",
     "iopub.status.idle": "2023-02-02T18:05:37.777860Z",
     "shell.execute_reply": "2023-02-02T18:05:37.776438Z"
    },
    "papermill": {
     "duration": 0.025842,
     "end_time": "2023-02-02T18:05:37.780374",
     "exception": false,
     "start_time": "2023-02-02T18:05:37.754532",
     "status": "completed"
    },
    "tags": []
   },
   "outputs": [
    {
     "name": "stdout",
     "output_type": "stream",
     "text": [
      "Unique values in column PreferredLoginDevice: ['Mobile Phone' 'Phone' 'Computer']\n",
      "Unique values in column PreferredPaymentMode: ['Debit Card' 'UPI' 'CC' 'Cash on Delivery' 'E wallet' 'COD' 'Credit Card']\n",
      "Unique values in column Gender: ['Female' 'Male']\n",
      "Unique values in column PreferedOrderCat: ['Laptop & Accessory' 'Mobile' 'Mobile Phone' 'Others' 'Fashion' 'Grocery']\n",
      "Unique values in column MaritalStatus: ['Single' 'Divorced' 'Married']\n"
     ]
    }
   ],
   "source": [
    "for col in df.columns:\n",
    "    if df[col].dtype == 'object':\n",
    "        print(f'Unique values in column {col}: {df[col].unique()}')"
   ]
  },
  {
   "cell_type": "markdown",
   "id": "3f1af2f2",
   "metadata": {
    "papermill": {
     "duration": 0.01136,
     "end_time": "2023-02-02T18:05:37.803446",
     "exception": false,
     "start_time": "2023-02-02T18:05:37.792086",
     "status": "completed"
    },
    "tags": []
   },
   "source": [
    "# Exploratory Analysis"
   ]
  },
  {
   "cell_type": "markdown",
   "id": "9d018e2e",
   "metadata": {
    "papermill": {
     "duration": 0.011376,
     "end_time": "2023-02-02T18:05:37.826432",
     "exception": false,
     "start_time": "2023-02-02T18:05:37.815056",
     "status": "completed"
    },
    "tags": []
   },
   "source": [
    "****1.1 Does the gender of a customer have a significant impact on their likelihood to churn?****"
   ]
  },
  {
   "cell_type": "markdown",
   "id": "df041d8c",
   "metadata": {
    "papermill": {
     "duration": 0.011278,
     "end_time": "2023-02-02T18:05:37.849294",
     "exception": false,
     "start_time": "2023-02-02T18:05:37.838016",
     "status": "completed"
    },
    "tags": []
   },
   "source": [
    "Understanding the impact of gender on churn can provide insights into the factors that influence customer satisfaction and loyalty. This information can help the company tailor their marketing and customer service strategies to better meet the needs of male and female customers."
   ]
  },
  {
   "cell_type": "code",
   "execution_count": 16,
   "id": "a48d53af",
   "metadata": {
    "execution": {
     "iopub.execute_input": "2023-02-02T18:05:37.874533Z",
     "iopub.status.busy": "2023-02-02T18:05:37.874074Z",
     "iopub.status.idle": "2023-02-02T18:05:38.086438Z",
     "shell.execute_reply": "2023-02-02T18:05:38.085572Z"
    },
    "papermill": {
     "duration": 0.228434,
     "end_time": "2023-02-02T18:05:38.089451",
     "exception": false,
     "start_time": "2023-02-02T18:05:37.861017",
     "status": "completed"
    },
    "tags": []
   },
   "outputs": [
    {
     "data": {
      "image/png": "[encoded data removed]",
      "text/plain": [
       "<Figure size 640x480 with 1 Axes>"
      ]
     },
     "metadata": {},
     "output_type": "display_data"
    }
   ],
   "source": [
    "grouped = df.groupby(['Gender', 'Churn']).count()['CustomerID']\n",
    "\n",
    "grouped.unstack().plot(kind='bar', stacked=False)\n",
    "\n",
    "plt.xlabel('Gender')\n",
    "plt.ylabel('Count')\n",
    "plt.title('Churn by Gender')\n",
    "\n",
    "plt.show()"
   ]
  },
  {
   "cell_type": "markdown",
   "id": "f675d07d",
   "metadata": {
    "execution": {
     "iopub.execute_input": "2023-02-01T17:01:07.480134Z",
     "iopub.status.busy": "2023-02-01T17:01:07.479673Z",
     "iopub.status.idle": "2023-02-01T17:01:07.506643Z",
     "shell.execute_reply": "2023-02-01T17:01:07.505452Z",
     "shell.execute_reply.started": "2023-02-01T17:01:07.480101Z"
    },
    "papermill": {
     "duration": 0.011645,
     "end_time": "2023-02-02T18:05:38.113476",
     "exception": false,
     "start_time": "2023-02-02T18:05:38.101831",
     "status": "completed"
    },
    "tags": []
   },
   "source": [
    "The chart above shows that the likelihood of churn by gender is very similar."
   ]
  },
  {
   "cell_type": "markdown",
   "id": "4eae1ebe",
   "metadata": {
    "papermill": {
     "duration": 0.011529,
     "end_time": "2023-02-02T18:05:38.137022",
     "exception": false,
     "start_time": "2023-02-02T18:05:38.125493",
     "status": "completed"
    },
    "tags": []
   },
   "source": [
    "****1.2 Does a customer's tenure have a significant impact on their likelihood to churn?****"
   ]
  },
  {
   "cell_type": "markdown",
   "id": "006c27ac",
   "metadata": {
    "papermill": {
     "duration": 0.011498,
     "end_time": "2023-02-02T18:05:38.160574",
     "exception": false,
     "start_time": "2023-02-02T18:05:38.149076",
     "status": "completed"
    },
    "tags": []
   },
   "source": [
    "Knowing the relationship between tenure and churn can help the company identify which customers are most at risk of leaving, so they can take proactive measures to retain these customers. This information can also help the company to understand which customer segments are most valuable to their business and why."
   ]
  },
  {
   "cell_type": "code",
   "execution_count": 17,
   "id": "e1028301",
   "metadata": {
    "execution": {
     "iopub.execute_input": "2023-02-02T18:05:38.187364Z",
     "iopub.status.busy": "2023-02-02T18:05:38.186027Z",
     "iopub.status.idle": "2023-02-02T18:05:38.822938Z",
     "shell.execute_reply": "2023-02-02T18:05:38.821674Z"
    },
    "papermill": {
     "duration": 0.652995,
     "end_time": "2023-02-02T18:05:38.825496",
     "exception": false,
     "start_time": "2023-02-02T18:05:38.172501",
     "status": "completed"
    },
    "tags": []
   },
   "outputs": [
    {
     "data": {
      "image/png": "[encoded data removed]",
      "text/plain": [
       "<Figure size 640x480 with 1 Axes>"
      ]
     },
     "metadata": {},
     "output_type": "display_data"
    }
   ],
   "source": [
    "grouped = df.groupby(['Tenure', 'Churn']).count()['CustomerID']\n",
    "\n",
    "# Plot the data\n",
    "grouped.unstack().plot(kind='bar', stacked=False)\n",
    "\n",
    "# Add labels and title to the plot\n",
    "plt.xlabel('Tenure')\n",
    "plt.ylabel('Count')\n",
    "plt.title('Churn by Tenure')\n",
    "\n",
    "# Show the plot\n",
    "plt.show()"
   ]
  },
  {
   "cell_type": "markdown",
   "id": "5ceb522c",
   "metadata": {
    "papermill": {
     "duration": 0.012053,
     "end_time": "2023-02-02T18:05:38.850335",
     "exception": false,
     "start_time": "2023-02-02T18:05:38.838282",
     "status": "completed"
    },
    "tags": []
   },
   "source": [
    "It is notable that the possibility of churn occurs more easily with a lower tenure."
   ]
  },
  {
   "cell_type": "markdown",
   "id": "ec6be2bb",
   "metadata": {
    "papermill": {
     "duration": 0.012162,
     "end_time": "2023-02-02T18:05:38.875552",
     "exception": false,
     "start_time": "2023-02-02T18:05:38.863390",
     "status": "completed"
    },
    "tags": []
   },
   "source": [
    "****1.3 Is there a significant relationship between a customer's preferred payment method and their likelihood to churn?****"
   ]
  },
  {
   "cell_type": "markdown",
   "id": "8d8b0404",
   "metadata": {
    "papermill": {
     "duration": 0.011842,
     "end_time": "2023-02-02T18:05:38.899864",
     "exception": false,
     "start_time": "2023-02-02T18:05:38.888022",
     "status": "completed"
    },
    "tags": []
   },
   "source": [
    "Understanding the relationship between preferred payment method and churn can help the company identify any barriers to customer retention that may be related to the payment process. This information can be used to make improvements to the payment process and increase customer satisfaction, leading to reduced churn."
   ]
  },
  {
   "cell_type": "code",
   "execution_count": 18,
   "id": "29418301",
   "metadata": {
    "execution": {
     "iopub.execute_input": "2023-02-02T18:05:38.926397Z",
     "iopub.status.busy": "2023-02-02T18:05:38.925614Z",
     "iopub.status.idle": "2023-02-02T18:05:39.192364Z",
     "shell.execute_reply": "2023-02-02T18:05:39.191044Z"
    },
    "papermill": {
     "duration": 0.282983,
     "end_time": "2023-02-02T18:05:39.194946",
     "exception": false,
     "start_time": "2023-02-02T18:05:38.911963",
     "status": "completed"
    },
    "tags": []
   },
   "outputs": [
    {
     "data": {
      "image/png": "[encoded data removed]",
      "text/plain": [
       "<Figure size 640x480 with 1 Axes>"
      ]
     },
     "metadata": {},
     "output_type": "display_data"
    }
   ],
   "source": [
    "grouped = df.groupby(['PreferredPaymentMode', 'Churn']).count()['CustomerID']\n",
    "\n",
    "# Plot the data\n",
    "grouped.unstack().plot(kind='bar', stacked=False)\n",
    "\n",
    "# Add labels and title to the plot\n",
    "plt.xlabel('Preferred Payment Method')\n",
    "plt.ylabel('Count')\n",
    "plt.title('Churn by Preferred Payment Method')\n",
    "\n",
    "# Show the plot\n",
    "plt.show()"
   ]
  },
  {
   "cell_type": "markdown",
   "id": "35acaf39",
   "metadata": {
    "papermill": {
     "duration": 0.012467,
     "end_time": "2023-02-02T18:05:39.220113",
     "exception": false,
     "start_time": "2023-02-02T18:05:39.207646",
     "status": "completed"
    },
    "tags": []
   },
   "source": [
    "Customers who use credit cards and debit cards tend not to churn"
   ]
  },
  {
   "cell_type": "markdown",
   "id": "05b6b4ed",
   "metadata": {
    "papermill": {
     "duration": 0.01236,
     "end_time": "2023-02-02T18:05:39.245666",
     "exception": false,
     "start_time": "2023-02-02T18:05:39.233306",
     "status": "completed"
    },
    "tags": []
   },
   "source": [
    "# Data Cleaning & Feature Selection"
   ]
  },
  {
   "cell_type": "markdown",
   "id": "464c25c5",
   "metadata": {
    "papermill": {
     "duration": 0.012345,
     "end_time": "2023-02-02T18:05:39.270713",
     "exception": false,
     "start_time": "2023-02-02T18:05:39.258368",
     "status": "completed"
    },
    "tags": []
   },
   "source": [
    "****Handling missing values****"
   ]
  },
  {
   "cell_type": "code",
   "execution_count": 19,
   "id": "6bff3fa3",
   "metadata": {
    "execution": {
     "iopub.execute_input": "2023-02-02T18:05:39.297924Z",
     "iopub.status.busy": "2023-02-02T18:05:39.297521Z",
     "iopub.status.idle": "2023-02-02T18:05:39.308567Z",
     "shell.execute_reply": "2023-02-02T18:05:39.307058Z"
    },
    "papermill": {
     "duration": 0.028222,
     "end_time": "2023-02-02T18:05:39.311727",
     "exception": false,
     "start_time": "2023-02-02T18:05:39.283505",
     "status": "completed"
    },
    "tags": []
   },
   "outputs": [
    {
     "name": "stdout",
     "output_type": "stream",
     "text": [
      "CustomerID                       0\n",
      "Churn                            0\n",
      "Tenure                         264\n",
      "PreferredLoginDevice             0\n",
      "CityTier                         0\n",
      "WarehouseToHome                251\n",
      "PreferredPaymentMode             0\n",
      "Gender                           0\n",
      "HourSpendOnApp                 255\n",
      "NumberOfDeviceRegistered         0\n",
      "PreferedOrderCat                 0\n",
      "SatisfactionScore                0\n",
      "MaritalStatus                    0\n",
      "NumberOfAddress                  0\n",
      "Complain                         0\n",
      "OrderAmountHikeFromlastYear    265\n",
      "CouponUsed                     256\n",
      "OrderCount                     258\n",
      "DaySinceLastOrder              307\n",
      "CashbackAmount                   0\n",
      "dtype: int64\n"
     ]
    }
   ],
   "source": [
    "print(df.isnull().sum())"
   ]
  },
  {
   "cell_type": "code",
   "execution_count": 20,
   "id": "c0179a4d",
   "metadata": {
    "execution": {
     "iopub.execute_input": "2023-02-02T18:05:39.339518Z",
     "iopub.status.busy": "2023-02-02T18:05:39.339096Z",
     "iopub.status.idle": "2023-02-02T18:05:39.370752Z",
     "shell.execute_reply": "2023-02-02T18:05:39.369294Z"
    },
    "papermill": {
     "duration": 0.049206,
     "end_time": "2023-02-02T18:05:39.373916",
     "exception": false,
     "start_time": "2023-02-02T18:05:39.324710",
     "status": "completed"
    },
    "tags": []
   },
   "outputs": [],
   "source": [
    "df = df.fillna(df.mode().iloc[0])"
   ]
  },
  {
   "cell_type": "code",
   "execution_count": 21,
   "id": "6773dba8",
   "metadata": {
    "execution": {
     "iopub.execute_input": "2023-02-02T18:05:39.402570Z",
     "iopub.status.busy": "2023-02-02T18:05:39.401995Z",
     "iopub.status.idle": "2023-02-02T18:05:39.417500Z",
     "shell.execute_reply": "2023-02-02T18:05:39.416269Z"
    },
    "papermill": {
     "duration": 0.032802,
     "end_time": "2023-02-02T18:05:39.420465",
     "exception": false,
     "start_time": "2023-02-02T18:05:39.387663",
     "status": "completed"
    },
    "tags": []
   },
   "outputs": [
    {
     "name": "stdout",
     "output_type": "stream",
     "text": [
      "<class 'pandas.core.frame.DataFrame'>\n",
      "RangeIndex: 5630 entries, 0 to 5629\n",
      "Data columns (total 20 columns):\n",
      " #   Column                       Non-Null Count  Dtype  \n",
      "---  ------                       --------------  -----  \n",
      " 0   CustomerID                   5630 non-null   int64  \n",
      " 1   Churn                        5630 non-null   int64  \n",
      " 2   Tenure                       5630 non-null   float64\n",
      " 3   PreferredLoginDevice         5630 non-null   object \n",
      " 4   CityTier                     5630 non-null   int64  \n",
      " 5   WarehouseToHome              5630 non-null   float64\n",
      " 6   PreferredPaymentMode         5630 non-null   object \n",
      " 7   Gender                       5630 non-null   object \n",
      " 8   HourSpendOnApp               5630 non-null   float64\n",
      " 9   NumberOfDeviceRegistered     5630 non-null   int64  \n",
      " 10  PreferedOrderCat             5630 non-null   object \n",
      " 11  SatisfactionScore            5630 non-null   int64  \n",
      " 12  MaritalStatus                5630 non-null   object \n",
      " 13  NumberOfAddress              5630 non-null   int64  \n",
      " 14  Complain                     5630 non-null   int64  \n",
      " 15  OrderAmountHikeFromlastYear  5630 non-null   float64\n",
      " 16  CouponUsed                   5630 non-null   float64\n",
      " 17  OrderCount                   5630 non-null   float64\n",
      " 18  DaySinceLastOrder            5630 non-null   float64\n",
      " 19  CashbackAmount               5630 non-null   float64\n",
      "dtypes: float64(8), int64(7), object(5)\n",
      "memory usage: 879.8+ KB\n"
     ]
    }
   ],
   "source": [
    "df.info()"
   ]
  },
  {
   "cell_type": "markdown",
   "id": "52ecd12a",
   "metadata": {
    "papermill": {
     "duration": 0.012484,
     "end_time": "2023-02-02T18:05:39.446788",
     "exception": false,
     "start_time": "2023-02-02T18:05:39.434304",
     "status": "completed"
    },
    "tags": []
   },
   "source": [
    "Impute missing values with the mode of each column"
   ]
  },
  {
   "cell_type": "markdown",
   "id": "a6287fb1",
   "metadata": {
    "papermill": {
     "duration": 0.012518,
     "end_time": "2023-02-02T18:05:39.472204",
     "exception": false,
     "start_time": "2023-02-02T18:05:39.459686",
     "status": "completed"
    },
    "tags": []
   },
   "source": [
    "****Numerical Features****"
   ]
  },
  {
   "cell_type": "markdown",
   "id": "17df349c",
   "metadata": {
    "papermill": {
     "duration": 0.012385,
     "end_time": "2023-02-02T18:05:39.497709",
     "exception": false,
     "start_time": "2023-02-02T18:05:39.485324",
     "status": "completed"
    },
    "tags": []
   },
   "source": [
    "Let's take a look at the correlation matrix:"
   ]
  },
  {
   "cell_type": "code",
   "execution_count": 23,
   "id": "561f1b99",
   "metadata": {
    "execution": {
     "iopub.execute_input": "2023-02-02T18:05:39.525952Z",
     "iopub.status.busy": "2023-02-02T18:05:39.524544Z",
     "iopub.status.idle": "2023-02-02T18:05:40.019626Z",
     "shell.execute_reply": "2023-02-02T18:05:40.018502Z"
    },
    "papermill": {
     "duration": 0.511437,
     "end_time": "2023-02-02T18:05:40.021964",
     "exception": false,
     "start_time": "2023-02-02T18:05:39.510527",
     "status": "completed"
    },
    "tags": []
   },
   "outputs": [
    {
     "data": {
      "image/png": "[encoded data removed]",
      "text/plain": [
       "<Figure size 1500x1000 with 2 Axes>"
      ]
     },
     "metadata": {},
     "output_type": "display_data"
    }
   ],
   "source": [
    "# Select only numeric columns\n",
    "numeric_df = df.select_dtypes(include='number')\n",
    "\n",
    "plt.figure(figsize=(15, 10))\n",
    "sns.heatmap(numeric_df.corr(), cmap='coolwarm')\n",
    "plt.show()\n"
   ]
  },
  {
   "cell_type": "markdown",
   "id": "4cb1e647",
   "metadata": {
    "papermill": {
     "duration": 0.013092,
     "end_time": "2023-02-02T18:05:40.048825",
     "exception": false,
     "start_time": "2023-02-02T18:05:40.035733",
     "status": "completed"
    },
    "tags": []
   },
   "source": [
    "The correlation matrix shows that coupon used, order count, days since last order, and cashback amount are positively correlated. This means that as the value of one variable increases, the value of the other variables is likely to increase as well. This could indicate that customers who use coupons, place more orders, have made their last order more recently, and receive a higher cashback amount are more likely to be active and engaged with the company.\n",
    "\n",
    "On the other hand, tenure is negatively correlated with churn. This suggests that customers who have been with the company for a longer period of time are less likely to leave compared to those with shorter tenures. This could be due to increased loyalty and satisfaction with the company's products and services over time."
   ]
  },
  {
   "cell_type": "markdown",
   "id": "9b9d4e57",
   "metadata": {
    "papermill": {
     "duration": 0.01296,
     "end_time": "2023-02-02T18:05:40.075053",
     "exception": false,
     "start_time": "2023-02-02T18:05:40.062093",
     "status": "completed"
    },
    "tags": []
   },
   "source": [
    "Eliminating irrelevant columns:"
   ]
  },
  {
   "cell_type": "code",
   "execution_count": 24,
   "id": "8bc3fac6",
   "metadata": {
    "execution": {
     "iopub.execute_input": "2023-02-02T18:05:40.104215Z",
     "iopub.status.busy": "2023-02-02T18:05:40.102975Z",
     "iopub.status.idle": "2023-02-02T18:05:40.110749Z",
     "shell.execute_reply": "2023-02-02T18:05:40.109516Z"
    },
    "papermill": {
     "duration": 0.025007,
     "end_time": "2023-02-02T18:05:40.113448",
     "exception": false,
     "start_time": "2023-02-02T18:05:40.088441",
     "status": "completed"
    },
    "tags": []
   },
   "outputs": [],
   "source": [
    "df = df.drop(\"CustomerID\", axis=1)"
   ]
  },
  {
   "cell_type": "markdown",
   "id": "33ef603d",
   "metadata": {
    "papermill": {
     "duration": 0.013002,
     "end_time": "2023-02-02T18:05:40.139886",
     "exception": false,
     "start_time": "2023-02-02T18:05:40.126884",
     "status": "completed"
    },
    "tags": []
   },
   "source": [
    "****Categorical Features****"
   ]
  },
  {
   "cell_type": "markdown",
   "id": "6c06a9d4",
   "metadata": {
    "papermill": {
     "duration": 0.013202,
     "end_time": "2023-02-02T18:05:40.166541",
     "exception": false,
     "start_time": "2023-02-02T18:05:40.153339",
     "status": "completed"
    },
    "tags": []
   },
   "source": [
    "The chi-square test can be used in feature selection to check the dependence between two categorical variables."
   ]
  },
  {
   "cell_type": "code",
   "execution_count": 25,
   "id": "d49cdca8",
   "metadata": {
    "execution": {
     "iopub.execute_input": "2023-02-02T18:05:40.195768Z",
     "iopub.status.busy": "2023-02-02T18:05:40.194609Z",
     "iopub.status.idle": "2023-02-02T18:05:40.263469Z",
     "shell.execute_reply": "2023-02-02T18:05:40.262151Z"
    },
    "papermill": {
     "duration": 0.086142,
     "end_time": "2023-02-02T18:05:40.266125",
     "exception": false,
     "start_time": "2023-02-02T18:05:40.179983",
     "status": "completed"
    },
    "tags": []
   },
   "outputs": [
    {
     "name": "stdout",
     "output_type": "stream",
     "text": [
      "PreferredLoginDevice: Chi-square Statistic = 73.53679418373687, p-value = 1.0756922373255215e-16\n",
      "PreferredLoginDevice is significantly related to churn\n",
      "PreferredPaymentMode: Chi-square Statistic = 77.89682023026812, p-value = 9.708708511076305e-15\n",
      "PreferredPaymentMode is significantly related to churn\n",
      "Gender: Chi-square Statistic = 4.662908495367532, p-value = 0.03082094033489009\n",
      "Gender is significantly related to churn\n",
      "PreferedOrderCat: Chi-square Statistic = 288.63939355672443, p-value = 2.7708325346337454e-60\n",
      "PreferedOrderCat is significantly related to churn\n",
      "MaritalStatus: Chi-square Statistic = 188.6710396770566, p-value = 1.073011277910542e-41\n",
      "MaritalStatus is significantly related to churn\n"
     ]
    }
   ],
   "source": [
    "from scipy.stats import chi2_contingency\n",
    "\n",
    "cat_features = df.select_dtypes(include=['object']).columns\n",
    "\n",
    "for feature in cat_features:\n",
    "    cross_tab = pd.crosstab(df[feature], df['Churn'])\n",
    "    stat, p, dof, expected = chi2_contingency(cross_tab)\n",
    "    print(f\"{feature}: Chi-square Statistic = {stat}, p-value = {p}\")\n",
    "    \n",
    "    alpha = 0.05\n",
    "    if p > alpha:\n",
    "        print(f\"{feature} is NOT significantly related to churn\")\n",
    "    else:\n",
    "        print(f\"{feature} is significantly related to churn\")"
   ]
  },
  {
   "cell_type": "markdown",
   "id": "63638b6b",
   "metadata": {
    "papermill": {
     "duration": 0.013484,
     "end_time": "2023-02-02T18:05:40.294010",
     "exception": false,
     "start_time": "2023-02-02T18:05:40.280526",
     "status": "completed"
    },
    "tags": []
   },
   "source": [
    "The results of the chi-square test show that the PreferredLoginDevice, PreferredPaymentMode, Gender, PreferedOrderCat, and MaritalStatus features are all significantly related to churn. The p-values for each feature are well below the threshold of 0.05, indicating that there is a statistically significant relationship between each of these features and churn.\n",
    "\n",
    "The PreferredLoginDevice feature has the highest chi-square statistic value, suggesting that the choice of login device is highly related to churn. Similarly, the PreferredPaymentMode feature also has a high chi-square statistic value, indicating that the choice of payment mode is also significantly related to churn.\n",
    "\n",
    "Gender, PreferedOrderCat, and MaritalStatus also have significant chi-square statistic values and p-values, suggesting that these features also play a role in determining churn. These results highlight the importance of considering the effects of demographic factors, such as gender and marital status, as well as customer preferences, such as login device and payment mode, when analyzing churn."
   ]
  },
  {
   "cell_type": "markdown",
   "id": "c7534320",
   "metadata": {
    "papermill": {
     "duration": 0.013348,
     "end_time": "2023-02-02T18:05:40.321033",
     "exception": false,
     "start_time": "2023-02-02T18:05:40.307685",
     "status": "completed"
    },
    "tags": []
   },
   "source": [
    "Converting the categorical features into dummy variables:"
   ]
  },
  {
   "cell_type": "code",
   "execution_count": 26,
   "id": "e42240ff",
   "metadata": {
    "execution": {
     "iopub.execute_input": "2023-02-02T18:05:40.350610Z",
     "iopub.status.busy": "2023-02-02T18:05:40.350148Z",
     "iopub.status.idle": "2023-02-02T18:05:40.369359Z",
     "shell.execute_reply": "2023-02-02T18:05:40.368051Z"
    },
    "papermill": {
     "duration": 0.037219,
     "end_time": "2023-02-02T18:05:40.372068",
     "exception": false,
     "start_time": "2023-02-02T18:05:40.334849",
     "status": "completed"
    },
    "tags": []
   },
   "outputs": [],
   "source": [
    "df= pd.get_dummies(df, columns=df.select_dtypes(['object']).columns)"
   ]
  },
  {
   "cell_type": "markdown",
   "id": "a60c4fe5",
   "metadata": {
    "execution": {
     "iopub.execute_input": "2023-02-01T18:07:26.824394Z",
     "iopub.status.busy": "2023-02-01T18:07:26.823917Z",
     "iopub.status.idle": "2023-02-01T18:07:26.845659Z",
     "shell.execute_reply": "2023-02-01T18:07:26.844174Z",
     "shell.execute_reply.started": "2023-02-01T18:07:26.824358Z"
    },
    "papermill": {
     "duration": 0.013497,
     "end_time": "2023-02-02T18:05:40.399287",
     "exception": false,
     "start_time": "2023-02-02T18:05:40.385790",
     "status": "completed"
    },
    "tags": []
   },
   "source": [
    "Now the dataset is ready, let's go to modeling"
   ]
  },
  {
   "cell_type": "markdown",
   "id": "f7d3b8ce",
   "metadata": {
    "papermill": {
     "duration": 0.013596,
     "end_time": "2023-02-02T18:05:40.427223",
     "exception": false,
     "start_time": "2023-02-02T18:05:40.413627",
     "status": "completed"
    },
    "tags": []
   },
   "source": [
    "# Machine Learning"
   ]
  },
  {
   "cell_type": "code",
   "execution_count": 27,
   "id": "1a54959b",
   "metadata": {
    "execution": {
     "iopub.execute_input": "2023-02-02T18:05:40.456549Z",
     "iopub.status.busy": "2023-02-02T18:05:40.456081Z",
     "iopub.status.idle": "2023-02-02T18:05:40.656532Z",
     "shell.execute_reply": "2023-02-02T18:05:40.655375Z"
    },
    "papermill": {
     "duration": 0.218269,
     "end_time": "2023-02-02T18:05:40.659237",
     "exception": false,
     "start_time": "2023-02-02T18:05:40.440968",
     "status": "completed"
    },
    "tags": []
   },
   "outputs": [],
   "source": [
    "from sklearn.model_selection import train_test_split\n",
    "\n",
    "X = df.drop('Churn', axis=1) \n",
    "y = df['Churn'] \n",
    "\n",
    "X_train, X_test, y_train, y_test = train_test_split(X, y, test_size=0.2, random_state=0)"
   ]
  },
  {
   "cell_type": "code",
   "execution_count": 28,
   "id": "fca85350",
   "metadata": {
    "execution": {
     "iopub.execute_input": "2023-02-02T18:05:40.688080Z",
     "iopub.status.busy": "2023-02-02T18:05:40.687675Z",
     "iopub.status.idle": "2023-02-02T18:05:40.695961Z",
     "shell.execute_reply": "2023-02-02T18:05:40.695079Z"
    },
    "papermill": {
     "duration": 0.025011,
     "end_time": "2023-02-02T18:05:40.697910",
     "exception": false,
     "start_time": "2023-02-02T18:05:40.672899",
     "status": "completed"
    },
    "tags": []
   },
   "outputs": [
    {
     "data": {
      "text/plain": [
       "Churn\n",
       "0    3743\n",
       "1     761\n",
       "Name: count, dtype: int64"
      ]
     },
     "execution_count": 28,
     "metadata": {},
     "output_type": "execute_result"
    }
   ],
   "source": [
    "y_train.value_counts()"
   ]
  },
  {
   "cell_type": "code",
   "execution_count": 29,
   "id": "90e3077f",
   "metadata": {
    "execution": {
     "iopub.execute_input": "2023-02-02T18:05:40.726885Z",
     "iopub.status.busy": "2023-02-02T18:05:40.726430Z",
     "iopub.status.idle": "2023-02-02T18:05:40.743304Z",
     "shell.execute_reply": "2023-02-02T18:05:40.741955Z"
    },
    "papermill": {
     "duration": 0.034422,
     "end_time": "2023-02-02T18:05:40.745814",
     "exception": false,
     "start_time": "2023-02-02T18:05:40.711392",
     "status": "completed"
    },
    "tags": []
   },
   "outputs": [],
   "source": [
    "from sklearn.preprocessing import StandardScaler\n",
    "sc = StandardScaler()\n",
    "X_train = sc.fit_transform(X_train)\n",
    "X_test=sc.transform(X_test)"
   ]
  },
  {
   "cell_type": "markdown",
   "id": "239596d0",
   "metadata": {
    "papermill": {
     "duration": 0.014107,
     "end_time": "2023-02-02T18:05:40.773665",
     "exception": false,
     "start_time": "2023-02-02T18:05:40.759558",
     "status": "completed"
    },
    "tags": []
   },
   "source": [
    "****Model 1: Logistic Regression on churn****"
   ]
  },
  {
   "cell_type": "code",
   "execution_count": 34,
   "id": "6a38ad15",
   "metadata": {
    "execution": {
     "iopub.execute_input": "2023-02-02T18:05:40.802955Z",
     "iopub.status.busy": "2023-02-02T18:05:40.802555Z",
     "iopub.status.idle": "2023-02-02T18:05:40.928560Z",
     "shell.execute_reply": "2023-02-02T18:05:40.926872Z"
    },
    "papermill": {
     "duration": 0.14589,
     "end_time": "2023-02-02T18:05:40.933291",
     "exception": false,
     "start_time": "2023-02-02T18:05:40.787401",
     "status": "completed"
    },
    "tags": []
   },
   "outputs": [
    {
     "name": "stdout",
     "output_type": "stream",
     "text": [
      "Training Set Metrics:\n",
      "Accuracy: 0.8987566607460036\n",
      "Precision: 0.8922759879290555\n",
      "Recall: 0.8987566607460036\n",
      "F1 Score: 0.8914914381222301\n",
      "\n",
      "Test Set Metrics:\n",
      "Accuracy: 0.8854351687388987\n",
      "Precision: 0.875874256512371\n",
      "Recall: 0.8854351687388987\n",
      "F1 Score: 0.87450623540538\n"
     ]
    }
   ],
   "source": [
    "from sklearn.linear_model import LogisticRegression\n",
    "from sklearn.metrics import accuracy_score, precision_score, recall_score, f1_score\n",
    "lr_clf = LogisticRegression(random_state = 0)\n",
    "lr_clf.fit(X_train, y_train)\n",
    "\n",
    "y_train_pred = lr_clf.predict(X_train)\n",
    "y_test_pred = lr_clf.predict(X_test)\n",
    "\n",
    "# Calculate metrics for the training set\n",
    "train_accuracy = accuracy_score(y_train, y_train_pred)\n",
    "train_precision = precision_score(y_train, y_train_pred, average='weighted')\n",
    "train_recall = recall_score(y_train, y_train_pred, average='weighted')\n",
    "train_f1 = f1_score(y_train, y_train_pred, average='weighted')\n",
    "\n",
    "# Calculate metrics for the test set\n",
    "test_accuracy = accuracy_score(y_test, y_test_pred)\n",
    "test_precision = precision_score(y_test, y_test_pred, average='weighted')\n",
    "test_recall = recall_score(y_test, y_test_pred, average='weighted')\n",
    "test_f1 = f1_score(y_test, y_test_pred, average='weighted')\n",
    "\n",
    "# Print results\n",
    "print('Training Set Metrics:')\n",
    "print(f'Accuracy: {train_accuracy}')\n",
    "print(f'Precision: {train_precision}')\n",
    "print(f'Recall: {train_recall}')\n",
    "print(f'F1 Score: {train_f1}')\n",
    "\n",
    "print('\\nTest Set Metrics:')\n",
    "print(f'Accuracy: {test_accuracy}')\n",
    "print(f'Precision: {test_precision}')\n",
    "print(f'Recall: {test_recall}')\n",
    "print(f'F1 Score: {test_f1}')"
   ]
  },
  {
   "cell_type": "markdown",
   "id": "a571082c",
   "metadata": {
    "papermill": {
     "duration": 0.034821,
     "end_time": "2023-02-02T18:05:41.002900",
     "exception": false,
     "start_time": "2023-02-02T18:05:40.968079",
     "status": "completed"
    },
    "tags": []
   },
   "source": [
    "****Model 2: Naive Bayes on churn****"
   ]
  },
  {
   "cell_type": "code",
   "execution_count": 35,
   "id": "a20b2c89",
   "metadata": {
    "execution": {
     "iopub.execute_input": "2023-02-02T18:05:41.057818Z",
     "iopub.status.busy": "2023-02-02T18:05:41.057388Z",
     "iopub.status.idle": "2023-02-02T18:05:41.078827Z",
     "shell.execute_reply": "2023-02-02T18:05:41.077608Z"
    },
    "papermill": {
     "duration": 0.044154,
     "end_time": "2023-02-02T18:05:41.082419",
     "exception": false,
     "start_time": "2023-02-02T18:05:41.038265",
     "status": "completed"
    },
    "tags": []
   },
   "outputs": [
    {
     "name": "stdout",
     "output_type": "stream",
     "text": [
      "Training Set Metrics:\n",
      "Accuracy: 0.7506660746003553\n",
      "Precision: 0.835642257395389\n",
      "Recall: 0.7506660746003553\n",
      "F1 Score: 0.7769151273717138\n",
      "\n",
      "Test Set Metrics:\n",
      "Accuracy: 0.7468916518650088\n",
      "Precision: 0.8189318180237807\n",
      "Recall: 0.7468916518650088\n",
      "F1 Score: 0.7716600113439898\n"
     ]
    }
   ],
   "source": [
    "from sklearn.naive_bayes import GaussianNB\n",
    "nb_clf= GaussianNB()\n",
    "nb_clf.fit(X_train, y_train)\n",
    "\n",
    "\n",
    "\n",
    "y_train_pred = nb_clf.predict(X_train)\n",
    "y_test_pred = nb_clf.predict(X_test)\n",
    "\n",
    "# Calculate metrics for the training set\n",
    "train_accuracy = accuracy_score(y_train, y_train_pred)\n",
    "train_precision = precision_score(y_train, y_train_pred, average='weighted')\n",
    "train_recall = recall_score(y_train, y_train_pred, average='weighted')\n",
    "train_f1 = f1_score(y_train, y_train_pred, average='weighted')\n",
    "\n",
    "# Calculate metrics for the test set\n",
    "test_accuracy = accuracy_score(y_test, y_test_pred)\n",
    "test_precision = precision_score(y_test, y_test_pred, average='weighted')\n",
    "test_recall = recall_score(y_test, y_test_pred, average='weighted')\n",
    "test_f1 = f1_score(y_test, y_test_pred, average='weighted')\n",
    "\n",
    "# Print results\n",
    "print('Training Set Metrics:')\n",
    "print(f'Accuracy: {train_accuracy}')\n",
    "print(f'Precision: {train_precision}')\n",
    "print(f'Recall: {train_recall}')\n",
    "print(f'F1 Score: {train_f1}')\n",
    "\n",
    "print('\\nTest Set Metrics:')\n",
    "print(f'Accuracy: {test_accuracy}')\n",
    "print(f'Precision: {test_precision}')\n",
    "print(f'Recall: {test_recall}')\n",
    "print(f'F1 Score: {test_f1}')"
   ]
  },
  {
   "cell_type": "markdown",
   "id": "c8335fe3",
   "metadata": {
    "papermill": {
     "duration": 0.013645,
     "end_time": "2023-02-02T18:05:41.110564",
     "exception": false,
     "start_time": "2023-02-02T18:05:41.096919",
     "status": "completed"
    },
    "tags": []
   },
   "source": [
    "****Model 3: RandomForestClassifier on churn****"
   ]
  },
  {
   "cell_type": "code",
   "execution_count": 40,
   "id": "8c1157dd",
   "metadata": {
    "execution": {
     "iopub.execute_input": "2023-02-02T18:05:41.140486Z",
     "iopub.status.busy": "2023-02-02T18:05:41.140054Z",
     "iopub.status.idle": "2023-02-02T18:05:41.459639Z",
     "shell.execute_reply": "2023-02-02T18:05:41.458457Z"
    },
    "papermill": {
     "duration": 0.337678,
     "end_time": "2023-02-02T18:05:41.462190",
     "exception": false,
     "start_time": "2023-02-02T18:05:41.124512",
     "status": "completed"
    },
    "tags": []
   },
   "outputs": [
    {
     "name": "stdout",
     "output_type": "stream",
     "text": [
      "Accuracy on training set: 0.9980017761989343\n",
      "Accuracy on test set: 0.9458259325044405\n",
      "Training Set Metrics:\n",
      "Accuracy: 0.9980017761989343\n",
      "Precision: 0.9980065693796938\n",
      "Recall: 0.9980017761989343\n",
      "F1 Score: 0.9979970327690557\n",
      "\n",
      "Test Set Metrics:\n",
      "Accuracy: 0.9458259325044405\n",
      "Precision: 0.9460248992106184\n",
      "Recall: 0.9458259325044405\n",
      "F1 Score: 0.9425940348807688\n"
     ]
    }
   ],
   "source": [
    "from sklearn.ensemble import RandomForestClassifier\n",
    "rf_clf = RandomForestClassifier(n_estimators=10, random_state=0)\n",
    "rf_clf.fit(X_train, y_train)\n",
    "\n",
    "y_train_pred = rf_clf.predict(X_train)\n",
    "y_test_pred = rf_clf.predict(X_test)\n",
    "\n",
    "# Calculate metrics for the training set\n",
    "train_accuracy = accuracy_score(y_train, y_train_pred)\n",
    "train_precision = precision_score(y_train, y_train_pred, average='weighted')\n",
    "train_recall = recall_score(y_train, y_train_pred, average='weighted')\n",
    "train_f1 = f1_score(y_train, y_train_pred, average='weighted')\n",
    "\n",
    "# Calculate metrics for the test set\n",
    "test_accuracy = accuracy_score(y_test, y_test_pred)\n",
    "test_precision = precision_score(y_test, y_test_pred, average='weighted')\n",
    "test_recall = recall_score(y_test, y_test_pred, average='weighted')\n",
    "test_f1 = f1_score(y_test, y_test_pred, average='weighted')\n",
    "\n",
    "# Print results\n",
    "print('Training Set Metrics:')\n",
    "print(f'Accuracy: {train_accuracy}')\n",
    "print(f'Precision: {train_precision}')\n",
    "print(f'Recall: {train_recall}')\n",
    "print(f'F1 Score: {train_f1}')\n",
    "\n",
    "print('\\nTest Set Metrics:')\n",
    "print(f'Accuracy: {test_accuracy}')\n",
    "print(f'Precision: {test_precision}')\n",
    "print(f'Recall: {test_recall}')\n",
    "print(f'F1 Score: {test_f1}')"
   ]
  },
  {
   "cell_type": "markdown",
   "id": "a7500bc1",
   "metadata": {
    "papermill": {
     "duration": 0.013544,
     "end_time": "2023-02-02T18:05:41.489612",
     "exception": false,
     "start_time": "2023-02-02T18:05:41.476068",
     "status": "completed"
    },
    "tags": []
   },
   "source": [
    "****Model 4: Decision Tree on churn****"
   ]
  },
  {
   "cell_type": "code",
   "execution_count": 39,
   "id": "6ceaf2ec",
   "metadata": {
    "execution": {
     "iopub.execute_input": "2023-02-02T18:05:41.520038Z",
     "iopub.status.busy": "2023-02-02T18:05:41.519649Z",
     "iopub.status.idle": "2023-02-02T18:05:41.558359Z",
     "shell.execute_reply": "2023-02-02T18:05:41.557208Z"
    },
    "papermill": {
     "duration": 0.056991,
     "end_time": "2023-02-02T18:05:41.560758",
     "exception": false,
     "start_time": "2023-02-02T18:05:41.503767",
     "status": "completed"
    },
    "tags": []
   },
   "outputs": [
    {
     "name": "stdout",
     "output_type": "stream",
     "text": [
      "Accuracy on training set: 1.0\n",
      "Accuracy on test set: 0.9547069271758437\n",
      "Training Set Metrics:\n",
      "Accuracy: 1.0\n",
      "Precision: 1.0\n",
      "Recall: 1.0\n",
      "F1 Score: 1.0\n",
      "\n",
      "Test Set Metrics:\n",
      "Accuracy: 0.9547069271758437\n",
      "Precision: 0.9544357752338548\n",
      "Recall: 0.9547069271758437\n",
      "F1 Score: 0.9545599204223294\n"
     ]
    }
   ],
   "source": [
    "from sklearn.tree import DecisionTreeClassifier\n",
    "dec_clf = DecisionTreeClassifier()\n",
    "dec_clf.fit(X_train, y_train)\n",
    "\n",
    "print('Accuracy on training set:',dec_clf.score(X_train, y_train))\n",
    "print('Accuracy on test set:',dec_clf.score(X_test, y_test))\n",
    "\n",
    "y_train_pred = dec_clf.predict(X_train)\n",
    "y_test_pred = dec_clf.predict(X_test)\n",
    "\n",
    "# Calculate metrics for the training set\n",
    "train_accuracy = accuracy_score(y_train, y_train_pred)\n",
    "train_precision = precision_score(y_train, y_train_pred, average='weighted')\n",
    "train_recall = recall_score(y_train, y_train_pred, average='weighted')\n",
    "train_f1 = f1_score(y_train, y_train_pred, average='weighted')\n",
    "\n",
    "# Calculate metrics for the test set\n",
    "test_accuracy = accuracy_score(y_test, y_test_pred)\n",
    "test_precision = precision_score(y_test, y_test_pred, average='weighted')\n",
    "test_recall = recall_score(y_test, y_test_pred, average='weighted')\n",
    "test_f1 = f1_score(y_test, y_test_pred, average='weighted')\n",
    "\n",
    "# Print results\n",
    "print('Training Set Metrics:')\n",
    "print(f'Accuracy: {train_accuracy}')\n",
    "print(f'Precision: {train_precision}')\n",
    "print(f'Recall: {train_recall}')\n",
    "print(f'F1 Score: {train_f1}')\n",
    "\n",
    "print('\\nTest Set Metrics:')\n",
    "print(f'Accuracy: {test_accuracy}')\n",
    "print(f'Precision: {test_precision}')\n",
    "print(f'Recall: {test_recall}')\n",
    "print(f'F1 Score: {test_f1}')"
   ]
  },
  {
   "cell_type": "markdown",
   "id": "59726a1d",
   "metadata": {
    "papermill": {
     "duration": 0.013313,
     "end_time": "2023-02-02T18:05:41.587974",
     "exception": false,
     "start_time": "2023-02-02T18:05:41.574661",
     "status": "completed"
    },
    "tags": []
   },
   "source": [
    "Advantages and disadvantages of Decision Tree:\n",
    "\n",
    "Advantages:\n",
    "\n",
    "Decision Trees are easy to interpret and explain.\n",
    "They can handle non-linear relationships between variables and can capture complex interactions.\n",
    "They are computationally fast, making them an efficient algorithm.\n",
    "\n",
    "Disadvantages:\n",
    "\n",
    "Decision Trees can easily overfit the data and may not generalize well to new data.\n",
    "They are not good for continuous variables, and can be sensitive to small changes in the data.\n",
    "\n",
    "Based on the accuracy results, the Decision Tree algorithm performed well on the test set, with an accuracy of 0.9547. However, it's important to consider the potential drawbacks, such as overfitting and sensitivity to small changes in the data, when choosing the best algorithm for a given problem."
   ]
  },
  {
   "cell_type": "markdown",
   "id": "6983ff20",
   "metadata": {
    "papermill": {
     "duration": 0.013687,
     "end_time": "2023-02-02T18:05:41.615226",
     "exception": false,
     "start_time": "2023-02-02T18:05:41.601539",
     "status": "completed"
    },
    "tags": []
   },
   "source": [
    "# Conclusion"
   ]
  },
  {
   "cell_type": "markdown",
   "id": "48ad7463",
   "metadata": {
    "papermill": {
     "duration": 0.013344,
     "end_time": "2023-02-02T18:05:41.642411",
     "exception": false,
     "start_time": "2023-02-02T18:05:41.629067",
     "status": "completed"
    },
    "tags": []
   },
   "source": [
    "In conclusion, the results of this project show that various factors, such as coupon usage, order count, days since last order, cashback amount, tenure, login device, payment mode, gender, order category, and marital status, are related to customer churn. The findings of the correlation matrix and chi-square test indicate that these factors can play a significant role in determining churn and that they should be considered when analyzing customer behavior.\n",
    "\n",
    "The RandomForestClassifier and decision tree models showed good accuracy results, with the decision tree model achieving a higher accuracy score on the test set. These results suggest that using machine learning models can be an effective method for predicting customer churn.\n",
    "\n",
    "The results of this project have practical implications for the company's financial performance. By better understanding the factors that contribute to customer churn, the company can take proactive measures to reduce churn and retain valuable customers. This can lead to increased customer loyalty, repeat business, and ultimately, improved financial performance.\n",
    "\n",
    "The findings of this project can be translated into financial results in the following ways:\n",
    "\n",
    "-Reducing Churn: By identifying the factors that contribute to customer churn, the company can take steps to reduce it. This can lead to increased customer retention and repeat business, which can result in increased revenue for the company.\n",
    "\n",
    "-Improving Customer Loyalty: By understanding the factors that influence customer churn, the company can take steps to improve customer loyalty. This can result in higher customer lifetime value, as loyal customers are more likely to make repeat purchases.\n",
    "\n",
    "-Increased Efficiency: By using machine learning models to predict customer churn, the company can target its retention efforts more effectively. This can lead to increased efficiency in retention efforts and a more focused use of resources, which can result in cost savings for the company."
   ]
  }
 ],
 "metadata": {
  "kernelspec": {
   "display_name": "Python 3",
   "language": "python",
   "name": "python3"
  },
  "language_info": {
   "codemirror_mode": {
    "name": "ipython",
    "version": 3
   },
   "file_extension": ".py",
   "mimetype": "text/x-python",
   "name": "python",
   "nbconvert_exporter": "python",
   "pygments_lexer": "ipython3",
   "version": "3.12.4"
  },
  "papermill": {
   "default_parameters": {},
   "duration": 17.28236,
   "end_time": "2023-02-02T18:05:42.478053",
   "environment_variables": {},
   "exception": null,
   "input_path": "__notebook__.ipynb",
   "output_path": "__notebook__.ipynb",
   "parameters": {},
   "start_time": "2023-02-02T18:05:25.195693",
   "version": "2.3.4"
  }
 },
 "nbformat": 4,
 "nbformat_minor": 5
}
